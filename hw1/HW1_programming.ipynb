{
 "cells": [
  {
   "cell_type": "markdown",
   "metadata": {},
   "source": [
    "# Data Info\n",
    "\n",
    "- The output we wish to predict is in \"y\":\n",
    "\ty: miles per gallon\n",
    "\n",
    "- Each row in \"X\" contains seven numbers. These numbers are scaled and should be used for your experiments. The original numbers are in \"X_orig\". The 7 columns of \"X\" correspond to:\n",
    "\tx1: intercept term\n",
    "\tx2: number of cylinders\n",
    "\tx3: displacement\n",
    "\tx4: horsepower\n",
    "\tx5: weight\n",
    "\tx6: acceleration\n",
    "\tx7: model year\n",
    "\n",
    "- \"legend\" contains car name for each entry of y and row of X\n"
   ]
  },
  {
   "cell_type": "markdown",
   "metadata": {},
   "source": [
    "# Modules to import"
   ]
  },
  {
   "cell_type": "code",
   "execution_count": 7,
   "metadata": {
    "collapsed": true
   },
   "outputs": [],
   "source": [
    "import numpy as np\n",
    "import matplotlib.pyplot as plt\n",
    "from sklearn import cross_validation\n",
    "from sklearn import linear_model\n",
    "from sklearn import metrics\n",
    "from scipy.stats import norm"
   ]
  },
  {
   "cell_type": "markdown",
   "metadata": {},
   "source": [
    "# Part 1"
   ]
  },
  {
   "cell_type": "markdown",
   "metadata": {},
   "source": [
    "## read data"
   ]
  },
  {
   "cell_type": "code",
   "execution_count": 3,
   "metadata": {
    "collapsed": false
   },
   "outputs": [
    {
     "name": "stdout",
     "output_type": "stream",
     "text": [
      "(392, 7) (392,)\n",
      "['intercept term', 'number of cylinders', 'displacement', 'horsepower', 'weight', 'acceleration', 'model year']\n"
     ]
    }
   ],
   "source": [
    "X = np.loadtxt('data_csv/X.txt', delimiter=',')\n",
    "Y = np.loadtxt('data_csv/y.txt')\n",
    "label = 'intercept term:number of cylinders:displacement:horsepower:weight:acceleration:model year'.split(':')\n",
    "print X.shape, Y.shape\n",
    "print label"
   ]
  },
  {
   "cell_type": "markdown",
   "metadata": {},
   "source": [
    "## Random train-test split\n",
    "* 20 for test"
   ]
  },
  {
   "cell_type": "code",
   "execution_count": 3,
   "metadata": {
    "collapsed": false
   },
   "outputs": [
    {
     "name": "stdout",
     "output_type": "stream",
     "text": [
      "(372, 7) (20, 7) (372,) (20,)\n"
     ]
    }
   ],
   "source": [
    "X_train, X_test, Y_train, Y_test = cross_validation.train_test_split(X, Y, test_size=20)\n",
    "print X_train.shape, X_test.shape, Y_train.shape, Y_test.shape"
   ]
  },
  {
   "cell_type": "markdown",
   "metadata": {},
   "source": [
    "## Train the linear regression model\n",
    "* print numbers obtained for parameter vector and corresponding labels"
   ]
  },
  {
   "cell_type": "code",
   "execution_count": 4,
   "metadata": {
    "collapsed": false
   },
   "outputs": [
    {
     "name": "stdout",
     "output_type": "stream",
     "text": [
      "23.5473136163 [ 0.         -0.53624543  1.27906133 -0.05922578 -6.19362742  0.24448757\n",
      "  2.83663356]\n"
     ]
    }
   ],
   "source": [
    "model = linear_model.LinearRegression()\n",
    "model.fit(X_train, Y_train)\n",
    "print model.intercept_, model.coef_"
   ]
  },
  {
   "cell_type": "markdown",
   "metadata": {},
   "source": [
    "**Observation:** positive sign means input is proportional to output, negative sign means input is inverse proportional to output."
   ]
  },
  {
   "cell_type": "markdown",
   "metadata": {},
   "source": [
    "## Predict the output and calculate MAE"
   ]
  },
  {
   "cell_type": "code",
   "execution_count": 5,
   "metadata": {
    "collapsed": false
   },
   "outputs": [
    {
     "name": "stdout",
     "output_type": "stream",
     "text": [
      "3.67366671383\n"
     ]
    }
   ],
   "source": [
    "Y_pred = model.predict(X_test)\n",
    "print(metrics.mean_absolute_error(Y_test, Y_pred))"
   ]
  },
  {
   "cell_type": "markdown",
   "metadata": {},
   "source": [
    "## Repeat\n",
    "* repeat 1000 times\n",
    "* each time calculate MAE to find out mean and standard deviation later on"
   ]
  },
  {
   "cell_type": "code",
   "execution_count": 6,
   "metadata": {
    "collapsed": false
   },
   "outputs": [
    {
     "name": "stdout",
     "output_type": "stream",
     "text": [
      "2.67044377205 0.480117507216\n"
     ]
    }
   ],
   "source": [
    "MAEs = np.empty(1000)\n",
    "for i in range(1000):\n",
    "    X_train, X_test, Y_train, Y_test = cross_validation.train_test_split(X, Y, test_size=20)\n",
    "    model = linear_model.LinearRegression()\n",
    "    model.fit(X_train, Y_train)\n",
    "    Y_pred = model.predict(X_test)\n",
    "    MAEs[i] = metrics.mean_absolute_error(Y_test, Y_pred)\n",
    "print np.mean(MAEs), np.std(MAEs)"
   ]
  },
  {
   "cell_type": "markdown",
   "metadata": {},
   "source": [
    "# Part 2"
   ]
  },
  {
   "cell_type": "markdown",
   "metadata": {},
   "source": [
    "## define template experiment function"
   ]
  },
  {
   "cell_type": "code",
   "execution_count": 4,
   "metadata": {
    "collapsed": false
   },
   "outputs": [],
   "source": [
    "def experiment(X, Y):\n",
    "    RMSEs = np.empty(1000)\n",
    "    diffs = np.empty((1000, 20))\n",
    "    for i in range(1000):\n",
    "        X_train, X_test, Y_train, Y_test = cross_validation.train_test_split(X, Y, test_size=20)\n",
    "        model = linear_model.LinearRegression()\n",
    "        model.fit(X_train, Y_train)\n",
    "        Y_pred = model.predict(X_test)\n",
    "        diffs[i] = Y_test - Y_pred\n",
    "        RMSEs[i] = metrics.mean_squared_error(Y_test, Y_pred) ** 0.5\n",
    "    return diffs, np.mean(RMSEs), np.std(RMSEs)"
   ]
  },
  {
   "cell_type": "markdown",
   "metadata": {},
   "source": [
    "## Experiment"
   ]
  },
  {
   "cell_type": "code",
   "execution_count": 5,
   "metadata": {
    "collapsed": false
   },
   "outputs": [
    {
     "name": "stdout",
     "output_type": "stream",
     "text": [
      "[3.4067382937197848, 2.7628735989684654, 2.6605177518803438, 2.7972164724030502]\n",
      "[0.68840276929479405, 0.64944718107932742, 0.61381097269170104, 0.61856903584628553]\n"
     ]
    }
   ],
   "source": [
    "diffs, means, stds = [None for i in range(4)], [None for i in range(4)], [None for i in range(4)]\n",
    "X_ex = np.copy(X)\n",
    "X_part = np.copy(X[:, 1:])\n",
    "X_add = X_part\n",
    "for i in range(4):\n",
    "    diffs[i], means[i], stds[i] = experiment(X_ex, Y)\n",
    "    X_add *= X_part\n",
    "    X_ex = np.hstack((X_ex, X_add))\n",
    "print means\n",
    "print stds"
   ]
  },
  {
   "cell_type": "markdown",
   "metadata": {},
   "source": [
    "**Observation:** Clearly, $p = 3$ has the best performance"
   ]
  },
  {
   "cell_type": "markdown",
   "metadata": {},
   "source": [
    "## Plot histograms"
   ]
  },
  {
   "cell_type": "code",
   "execution_count": 6,
   "metadata": {
    "collapsed": false
   },
   "outputs": [
    {
     "data": {
      "image/png": "[encoded data removed]",
      "text/plain": [
       "<matplotlib.figure.Figure at 0x11483a190>"
      ]
     },
     "metadata": {},
     "output_type": "display_data"
    }
   ],
   "source": [
    "%matplotlib inline\n",
    "plt.figure(1, figsize=(10, 10))\n",
    "for i in range(4):\n",
    "    plt.subplot(220+i+1)\n",
    "    n, bins, patches = plt.hist(np.reshape(diffs[i], 20*1000), bins=50, range=(-10, 15))\n",
    "    plt.title('Histogram with $p = $' + str(i+1))\n",
    "    plt.ylim(ymax=2500)\n",
    "plt.tight_layout()\n",
    "plt.show()"
   ]
  },
  {
   "cell_type": "markdown",
   "metadata": {
    "collapsed": true
   },
   "source": [
    "## Calculate log likelihood"
   ]
  },
  {
   "cell_type": "code",
   "execution_count": 19,
   "metadata": {
    "collapsed": false
   },
   "outputs": [
    {
     "name": "stdout",
     "output_type": "stream",
     "text": [
      "-53292.1185271\n",
      "-49240.2680536\n",
      "-48466.7455654\n",
      "-49428.5843529\n"
     ]
    }
   ],
   "source": [
    "def log_like(arr):\n",
    "    mean, std = np.mean(arr), np.std(arr)\n",
    "    result = 0\n",
    "    for num in arr:\n",
    "        result += norm.logpdf(num, loc=mean, scale=std)\n",
    "    return result\n",
    "\n",
    "for item in diffs:\n",
    "    print log_like(np.reshape(item, 20*1000))"
   ]
  }
 ],
 "metadata": {
  "kernelspec": {
   "display_name": "Python 2",
   "language": "python",
   "name": "python2"
  },
  "language_info": {
   "codemirror_mode": {
    "name": "ipython",
    "version": 2
   },
   "file_extension": ".py",
   "mimetype": "text/x-python",
   "name": "python",
   "nbconvert_exporter": "python",
   "pygments_lexer": "ipython2",
   "version": "2.7.10"
  }
 },
 "nbformat": 4,
 "nbformat_minor": 0
}

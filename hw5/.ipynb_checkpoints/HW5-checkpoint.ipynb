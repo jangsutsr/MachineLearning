{
 "cells": [
  {
   "cell_type": "markdown",
   "metadata": {},
   "source": [
    "## Modules to import"
   ]
  },
  {
   "cell_type": "code",
   "execution_count": 1,
   "metadata": {
    "collapsed": true
   },
   "outputs": [],
   "source": [
    "import numpy as np\n",
    "import matplotlib.pyplot as plt"
   ]
  },
  {
   "cell_type": "markdown",
   "metadata": {},
   "source": [
    "# Problem 1"
   ]
  },
  {
   "cell_type": "markdown",
   "metadata": {},
   "source": [
    "## Model Definition"
   ]
  },
  {
   "cell_type": "code",
   "execution_count": 7,
   "metadata": {
    "collapsed": false
   },
   "outputs": [],
   "source": [
    "class Markov(object):\n",
    "    def __init__(self, file_name='cfb2015scores.csv', team_num=759):\n",
    "        self.M = np.zeros((team_num, team_num))\n",
    "        from csv import reader\n",
    "        with open(file_name) as f:\n",
    "            rows = reader(f, delimiter=',')\n",
    "            for row in rows:\n",
    "                try:\n",
    "                    index1 = int(row[0]) - 1\n",
    "                    index2 = int(row[2]) - 1\n",
    "                    points1 = float(row[1])\n",
    "                    points2 = float(row[3])\n",
    "                    self.M[index1, index1] += points1 / (points1+points2)\n",
    "                    self.M[index2, index2] += points2 / (points1+points2)\n",
    "                    self.M[index1, index2] += points2 / (points1+points2)\n",
    "                    self.M[index2, index1] += points1 / (points1+points2)\n",
    "                    if points1 > points2:\n",
    "                        self.M[index1, index1] += 1\n",
    "                        self.M[index2, index1] += 1\n",
    "                    elif points2 > points1:\n",
    "                        self.M[index2, index2] += 1\n",
    "                        self.M[index1, index2] += 1\n",
    "                except IndexError:\n",
    "                    continue\n",
    "        from sklearn.preprocessing import normalize\n",
    "        self.M = normalize(self.M, axis=1, norm='l1')\n",
    "        values, vectors = np.linalg.eig(self.M.T)\n",
    "        self.w_inf = vectors[:, np.argmax(values)]\n",
    "        self.w_inf /= np.sum(self.w_inf)\n",
    "\n",
    "    def update(self, w):\n",
    "        return np.dot(w, self.M)"
   ]
  },
  {
   "cell_type": "markdown",
   "metadata": {},
   "source": [
    "## Experiment"
   ]
  },
  {
   "cell_type": "code",
   "execution_count": 29,
   "metadata": {
    "collapsed": false
   },
   "outputs": [
    {
     "name": "stdout",
     "output_type": "stream",
     "text": [
      "\n",
      "Ranking for state No. 10:\n",
      "Mount Ida\tscore: 6.43394813048\n",
      "Muskingum\tscore: 4.83145467127\n",
      "Akron\tscore: 4.57922499829\n",
      "St Scholastica\tscore: 4.21769260533\n",
      "Clark Atlanta\tscore: 3.19031147514\n",
      "West Chester\tscore: 2.93882012586\n",
      "Lindsey Wilson\tscore: 2.93734393177\n",
      "Maranatha Baptist\tscore: 2.8508277143\n",
      "Shenandoah\tscore: 2.82477138435\n",
      "WV Wesleyan\tscore: 2.65088433408\n",
      "UW-Stout\tscore: 2.64755943295\n",
      "Morgan St\tscore: 2.43498100178\n",
      "North Dakota\tscore: 2.41786676964\n",
      "Sioux Falls\tscore: 2.40632659186\n",
      "Thiel\tscore: 2.36766252185\n",
      "Weber St\tscore: 2.32749114048\n",
      "Ohio Wesleyan\tscore: 2.24271633724\n",
      "Ohio Northern\tscore: 2.16233369489\n",
      "UW-La Crosse\tscore: 2.14820776881\n",
      "Grambling St\tscore: 2.14749730814\n",
      "Westminster PA\tscore: 2.10717791368\n",
      "Misericordia\tscore: 2.0977320718\n",
      "Hope\tscore: 2.09036316718\n",
      "Mary\tscore: 2.08547685744\n",
      "St Francis IL\tscore: 2.05688570758\n",
      "\n",
      "Ranking for state No. 100:\n",
      "Mount Ida\tscore: 20.7048750486\n",
      "Akron\tscore: 12.7523390028\n",
      "Muskingum\tscore: 12.1181238763\n",
      "St Scholastica\tscore: 8.66409153379\n",
      "Clark Atlanta\tscore: 6.71873582209\n",
      "Misericordia\tscore: 5.32446995623\n",
      "Ohio Northern\tscore: 5.09272615766\n",
      "Ohio Wesleyan\tscore: 4.46911666841\n",
      "St Xavier\tscore: 4.17286963451\n",
      "Michigan\tscore: 4.08817005113\n",
      "Maranatha Baptist\tscore: 4.02503925033\n",
      "Hope\tscore: 3.98937077629\n",
      "Miami OH\tscore: 3.29828094591\n",
      "Indianapolis\tscore: 3.15765368838\n",
      "TAMU-Kingsville\tscore: 3.15734278071\n",
      "St Francis IL\tscore: 3.12906137072\n",
      "Lindsey Wilson\tscore: 3.06084520177\n",
      "Fitchburg St\tscore: 3.02194749259\n",
      "LIU Post\tscore: 2.9958148357\n",
      "Emory & Henry\tscore: 2.98676076277\n",
      "Arizona St\tscore: 2.89063247492\n",
      "Norwich\tscore: 2.85961550075\n",
      "Weber St\tscore: 2.73320913873\n",
      "Florida Int'l\tscore: 2.71849552416\n",
      "Temple\tscore: 2.66574491789\n",
      "\n",
      "Ranking for state No. 1000:\n",
      "Akron\tscore: 23.4022933607\n",
      "Clark Atlanta\tscore: 12.245496488\n",
      "Misericordia\tscore: 9.75065998455\n",
      "Ohio Northern\tscore: 9.31194434016\n",
      "Ohio Wesleyan\tscore: 8.01542885825\n",
      "St Xavier\tscore: 7.5271826056\n",
      "Michigan\tscore: 7.42895965503\n",
      "Hope\tscore: 7.29712013177\n",
      "Miami OH\tscore: 6.00443673477\n",
      "TAMU-Kingsville\tscore: 5.61181640139\n",
      "Indianapolis\tscore: 5.6099616628\n",
      "Fitchburg St\tscore: 5.54431323272\n",
      "LIU Post\tscore: 5.4748729106\n",
      "Arizona St\tscore: 5.27064789195\n",
      "Norwich\tscore: 5.19380007027\n",
      "Florida Int'l\tscore: 4.91940034102\n",
      "Muskingum\tscore: 4.85340910653\n",
      "Temple\tscore: 4.84872247339\n",
      "Mount Ida\tscore: 4.48199523979\n",
      "Bates\tscore: 4.29459995287\n",
      "Ursinus\tscore: 4.22553135596\n",
      "NW Oklahoma St\tscore: 4.12987424346\n",
      "Oklahoma Baptist\tscore: 4.12260583495\n",
      "Northern St SD\tscore: 4.10060664249\n",
      "North Alabama\tscore: 3.88223183378\n",
      "\n",
      "Ranking for state No. 2500:\n",
      "Akron\tscore: 25.4887965465\n",
      "Clark Atlanta\tscore: 13.3327884445\n",
      "Misericordia\tscore: 10.6178721085\n",
      "Ohio Northern\tscore: 10.1416427941\n",
      "Ohio Wesleyan\tscore: 8.71582412942\n",
      "St Xavier\tscore: 8.19007170567\n",
      "Michigan\tscore: 8.08752044978\n",
      "Hope\tscore: 7.94805329828\n",
      "Miami OH\tscore: 6.53735831668\n",
      "Indianapolis\tscore: 6.09809670591\n",
      "TAMU-Kingsville\tscore: 6.09806045427\n",
      "Fitchburg St\tscore: 6.03858033226\n",
      "LIU Post\tscore: 5.96109912389\n",
      "Arizona St\tscore: 5.73778395485\n",
      "Norwich\tscore: 5.65439703482\n",
      "Florida Int'l\tscore: 5.3539384163\n",
      "Temple\tscore: 5.27795435877\n",
      "Bates\tscore: 4.66506624474\n",
      "Ursinus\tscore: 4.59665214107\n",
      "NW Oklahoma St\tscore: 4.49397069618\n",
      "Oklahoma Baptist\tscore: 4.47823943101\n",
      "Northern St SD\tscore: 4.46146068264\n",
      "North Alabama\tscore: 4.22247469739\n",
      "Winston-Salem St\tscore: 4.10257108935\n",
      "Olivet Nazarene\tscore: 4.07099112583\n"
     ]
    },
    {
     "data": {
      "image/png": "[encoded data removed]",
      "text/plain": [
       "<matplotlib.figure.Figure at 0x114c3b510>"
      ]
     },
     "metadata": {},
     "output_type": "display_data"
    }
   ],
   "source": [
    "model = Markov()\n",
    "w_t = np.random.uniform(size=759)\n",
    "to_plot = np.zeros(2500)\n",
    "for i in range(2500):\n",
    "    to_plot[i] = np.linalg.norm(w_t-model.w_inf)\n",
    "    if i+1 in (10, 100, 1000, 2500):\n",
    "        indices = list(np.argsort(w_t)[759-25:759]); indices.reverse()\n",
    "        to_print = ['' for _ in range(25)]\n",
    "        count = 0\n",
    "        with open('legend.txt') as f:\n",
    "            for line in f:\n",
    "                count += 1\n",
    "                if count in indices:\n",
    "                    to_print[indices.index(count)] = line[:-1] + \"\\tscore: {}\".format(w_t[count])\n",
    "        print(\"\\nRanking for state No. {}:\".format(i+1))\n",
    "        for line in to_print:\n",
    "            print(line)\n",
    "    w_t = model.update(w_t)\n",
    "%matplotlib inline\n",
    "plt.plot(to_plot)\n",
    "plt.show()"
   ]
  },
  {
   "cell_type": "markdown",
   "metadata": {},
   "source": [
    "# Problem 2"
   ]
  },
  {
   "cell_type": "markdown",
   "metadata": {},
   "source": [
    "## Model Definition"
   ]
  },
  {
   "cell_type": "code",
   "execution_count": 41,
   "metadata": {
    "collapsed": true
   },
   "outputs": [],
   "source": [
    "class NMF(object):\n",
    "    def __init__(self, rank=25):\n",
    "        self.W = None\n",
    "        self.H = None\n",
    "        self.rank = rank\n",
    "        \n",
    "    def fit(self, X, method, n_iter=200):\n",
    "        from sklearn.preprocessing import normalize\n",
    "        self.W = np.ones((X.shape[0], self.rank))\n",
    "        self.H = np.ones((self.rank, X.shape[1]))\n",
    "        objectives = np.zeros(n_iter)\n",
    "        for i in range(n_iter):\n",
    "            if method == 'SquareError':\n",
    "                self.W = self.W * np.dot(X, self.H.T) / np.dot(np.dot(self.W, self.H), self.H.T)\n",
    "                self.H = self.H * np.dot(self.W.T, X) / np.dot(self.W.T, np.dot(self.W, self.H))\n",
    "                objectives[i] = np.linalg.norm(X - np.dot(self.W, self.H), 'fro') ** 2\n",
    "            elif method == 'Divergence':\n",
    "                aux = X / (np.dot(self.W, self.H) + 10e-16)\n",
    "                self.W = self.W * np.dot(aux, normalize(self.H.T, axis=0, norm='l1'))\n",
    "                self.H = self.H * np.dot(normalize(self.W.T, axis=1, norm='l1'), aux)\n",
    "                objectives[i] = np.sum(-X * np.log(np.dot(self.W, self.H) + 10e-16) + np.dot(self.W, self.H))\n",
    "        %matplotlib inline\n",
    "        plt.plot(objectives)\n",
    "        plt.show()"
   ]
  },
  {
   "cell_type": "markdown",
   "metadata": {},
   "source": [
    "## Experiment1"
   ]
  },
  {
   "cell_type": "code",
   "execution_count": 37,
   "metadata": {
    "collapsed": false
   },
   "outputs": [
    {
     "data": {
      "image/png": "[encoded data removed]",
      "text/plain": [
       "<matplotlib.figure.Figure at 0x1146d8f90>"
      ]
     },
     "metadata": {},
     "output_type": "display_data"
    }
   ],
   "source": [
    "mat = []\n",
    "with open('faces.csv') as f:\n",
    "    from csv import reader\n",
    "    rows = reader(f, delimiter=',')\n",
    "    for row in rows:\n",
    "        if len(row):\n",
    "            mat.append([])\n",
    "            for column in row:\n",
    "                mat[-1].append(float(column))\n",
    "mat = np.array(mat)\n",
    "nmf = NMF()\n",
    "nmf.fit(mat, 'SquareError')"
   ]
  },
  {
   "cell_type": "markdown",
   "metadata": {},
   "source": [
    "## Experiment2"
   ]
  },
  {
   "cell_type": "code",
   "execution_count": 42,
   "metadata": {
    "collapsed": false
   },
   "outputs": [
    {
     "data": {
      "image/png": "[encoded data removed]",
      "text/plain": [
       "<matplotlib.figure.Figure at 0x1149af090>"
      ]
     },
     "metadata": {},
     "output_type": "display_data"
    }
   ],
   "source": [
    "mat = np.zeros((3012, 8447))\n",
    "with open('nyt_data.txt') as f:\n",
    "    from csv import reader\n",
    "    rows = reader(f, delimiter=',')\n",
    "    count = 0\n",
    "    for row in rows:\n",
    "        for column in row:\n",
    "            mat[int(column.split(':')[0])-1, count] += float(column.split(':')[1])\n",
    "nmf = NMF()\n",
    "nmf.fit(mat, 'Divergence')"
   ]
  }
 ],
 "metadata": {
  "kernelspec": {
   "display_name": "Python 2",
   "language": "python",
   "name": "python2"
  },
  "language_info": {
   "codemirror_mode": {
    "name": "ipython",
    "version": 2
   },
   "file_extension": ".py",
   "mimetype": "text/x-python",
   "name": "python",
   "nbconvert_exporter": "python",
   "pygments_lexer": "ipython2",
   "version": "2.7.10"
  }
 },
 "nbformat": 4,
 "nbformat_minor": 0
}
